{
 "cells": [
  {
   "cell_type": "markdown",
   "metadata": {},
   "source": [
    "# Homework 5 RF Accuracy Improvement\n",
    "\n",
    "This assignment is inspired by examples of Shan-Hung Wu from National Tsing Hua University.\n",
    "\n",
    "Requirement: improve the accuracy per feature of the following code from 0.03 up to at least 0.45 and accuracy should be more than 0.92\n",
    "\n",
    "Here are three hints:\n",
    "\n",
    "    You can improve the ratio by picking out or \"creating\" several features.\n",
    "    Tune hyperparameters\n",
    "    The ratio can be improved from 0.03 up to 0.47."
   ]
  },
  {
   "cell_type": "code",
   "execution_count": 7,
   "metadata": {},
   "outputs": [
    {
     "name": "stdout",
     "output_type": "stream",
     "text": [
      "(569, 30)\n",
      "Shape of X after feature selection: (569, 2)\n",
      "Best Parameters: {'criterion': 'gini', 'max_depth': 10, 'min_samples_leaf': 2, 'min_samples_split': 2, 'n_estimators': 200}\n",
      "Average Accuracy: 0.9420121099208197\n",
      "Accuracy per Feature: 0.47100605496040987\n"
     ]
    }
   ],
   "source": [
    "from sklearn.model_selection import train_test_split\n",
    "from sklearn.datasets import load_breast_cancer\n",
    "from sklearn.metrics import accuracy_score\n",
    "from sklearn.ensemble import RandomForestClassifier\n",
    "import numpy as np\n",
    "import pandas as pd\n",
    "from sklearn.model_selection import GridSearchCV\n",
    "from sklearn.model_selection import cross_val_score\n",
    "\n",
    "\n",
    "\n",
    "\n",
    "# load the breast_cancer dataset\n",
    "init_data = load_breast_cancer()\n",
    "(X, y) = load_breast_cancer(return_X_y=True)\n",
    "\n",
    "print(X.shape)\n",
    "\n",
    "# COMPLETED Select some features (X), hint: based on the connections with\n",
    "# our Y (importance? correlation?)\n",
    "initial_rf = RandomForestClassifier(n_estimators=100, random_state=42)\n",
    "initial_rf.fit(X, y)\n",
    "\n",
    "feature_importances = initial_rf.feature_importances_\n",
    "importance_threshold = np.percentile(feature_importances, 95)  # Select top 5% features\n",
    "selected_features = np.where(feature_importances >= importance_threshold)[0]\n",
    "\n",
    "X_selected = X[:, selected_features]\n",
    "print(\"Shape of X after feature selection:\", X_selected.shape)\n",
    "\n",
    "# COMPLETED need 5 fold cross validation\n",
    "param_grid = {\n",
    "    'n_estimators': [200, 400, 500],\n",
    "    'criterion': ['gini', 'entropy'],\n",
    "    'max_depth': [ 10, 15, 20],\n",
    "    'min_samples_split': [2, 5],\n",
    "    'min_samples_leaf': [1, 2]\n",
    "}\n",
    "\n",
    "grid_search = GridSearchCV(RandomForestClassifier(random_state=42), param_grid, cv=5, scoring='accuracy', n_jobs=-1)\n",
    "grid_search.fit(X_selected, y)\n",
    "\n",
    "# COMPLETED Tune parameters for RandomForestClassifier\n",
    "best_rf = grid_search.best_estimator_\n",
    "print(\"Best Parameters:\", grid_search.best_params_)\n",
    "\n",
    "# COMPLETED Calculate Average accuracy score\n",
    "cross_val_acc = cross_val_score(best_rf, X_selected, y, cv=5, scoring='accuracy')\n",
    "avg_accuracy = cross_val_acc.mean()\n",
    "accuracy_per_feature = avg_accuracy / X_selected.shape[1]\n",
    "\n",
    "print(\"Average Accuracy:\", avg_accuracy)\n",
    "print(\"Accuracy per Feature:\", accuracy_per_feature)\n",
    "\n",
    "# COMPLETED Calculate Average (accuracy score/number of features)\n",
    "assert avg_accuracy > 0.92, \"Accuracy requirement not met.\"\n",
    "assert accuracy_per_feature > 0.45, \"Accuracy per feature requirement not met.\""
   ]
  },
  {
   "cell_type": "code",
   "execution_count": null,
   "metadata": {},
   "outputs": [],
   "source": []
  }
 ],
 "metadata": {
  "kernelspec": {
   "display_name": "base",
   "language": "python",
   "name": "python3"
  },
  "language_info": {
   "codemirror_mode": {
    "name": "ipython",
    "version": 3
   },
   "file_extension": ".py",
   "mimetype": "text/x-python",
   "name": "python",
   "nbconvert_exporter": "python",
   "pygments_lexer": "ipython3",
   "version": "3.12.4"
  }
 },
 "nbformat": 4,
 "nbformat_minor": 2
}
