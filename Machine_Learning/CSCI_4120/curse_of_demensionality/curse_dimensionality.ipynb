{
 "cells": [
  {
   "cell_type": "markdown",
   "metadata": {},
   "source": [
    "# Curse of dimensionality"
   ]
  },
  {
   "cell_type": "markdown",
   "metadata": {},
   "source": [
    "This Jupyter Notebook is from: https://github.com/julienr/ipynb_playground\n",
    "Based on this article : http://www.edupristine.com/blog/curse-dimensionality"
   ]
  },
  {
   "cell_type": "code",
   "execution_count": 1,
   "metadata": {},
   "outputs": [],
   "source": [
    "import numpy as np\n",
    "import pylab as pl\n",
    "%matplotlib inline\n",
    "# make your plot outputs appear and be stored within the notebook"
   ]
  },
  {
   "cell_type": "markdown",
   "metadata": {},
   "source": [
    "## Sampling"
   ]
  },
  {
   "cell_type": "markdown",
   "metadata": {},
   "source": [
    "How curse of dimensionality impacts sampling.\n",
    "\n",
    "This the sampling example of the original article.\n",
    "\n",
    "<img src=\"files/curse-of-dimensionality_1.png\" />\n",
    "[Original image](http://content.edupristine.com/images/blogs/curse-of-dimensionality_1.png)\n",
    "\n",
    "E.g.: we have 100,000 students in a university, we want to sample 1% of all the students and measure their heights and weights."
   ]
  },
  {
   "cell_type": "markdown",
   "metadata": {},
   "source": [
    "Let's say we want to sample a target percentage ($p$) of our points.\n",
    "If our points are in $n$ dimensions, we have to sample $x$ percent of the range along each dimension to\n",
    "achieve overall $p$ sampling rate.\n",
    "\n",
    "$$x^n = p$$\n",
    "\n",
    "So if we want to find $x$ for a given dimension\n",
    "\n",
    "$$x = p^\\frac{1}{n}$$\n",
    "\n",
    "x equals nth root of P. Let's plot this"
   ]
  },
  {
   "cell_type": "code",
   "execution_count": 2,
   "metadata": {},
   "outputs": [
    {
     "name": "stdout",
     "output_type": "stream",
     "text": [
      "[ 1  2  3  4  5  6  7  8  9 10 11 12 13 14 15 16 17 18 19 20 21 22 23 24\n",
      " 25 26 27 28 29 30 31 32 33 34 35 36 37 38 39 40 41 42 43 44 45 46 47 48\n",
      " 49]\n",
      "[0.01       0.1        0.21544347 0.31622777 0.39810717 0.46415888\n",
      " 0.51794747 0.56234133 0.59948425 0.63095734 0.65793322 0.68129207\n",
      " 0.70170383 0.71968567 0.73564225 0.74989421 0.76269859 0.77426368\n",
      " 0.78475997 0.79432823 0.80308572 0.81113083 0.81854673 0.82540419\n",
      " 0.83176377 0.83767764 0.84319093 0.8483429  0.85316785 0.8576959\n",
      " 0.86195357 0.86596432 0.869749   0.87332616 0.87671239 0.87992254\n",
      " 0.88297    0.88586679 0.88862382 0.89125094 0.89375712 0.8961505\n",
      " 0.89843854 0.90062802 0.90272518 0.90473572 0.90666491 0.90851758\n",
      " 0.91029818]\n"
     ]
    }
   ],
   "source": [
    "# we want to sample 1% of our points\n",
    "p = 0.01\n",
    "n = np.arange(1, 50)\n",
    "\n",
    "# p to the power of (1.0/n)\n",
    "# 1.0 instead of 1, becasue we want python calculate results using float numbers\n",
    "# or 1/2 = 0\n",
    "x = p**(1.0 / n)\n",
    "# x is sampling rate, n is dimensionality\n",
    "print(n)\n",
    "print(x)"
   ]
  },
  {
   "cell_type": "code",
   "execution_count": 3,
   "metadata": {},
   "outputs": [
    {
     "data": {
      "text/plain": [
       "Text(0, 0.5, 'percentage of range')"
      ]
     },
     "execution_count": 3,
     "metadata": {},
     "output_type": "execute_result"
    },
    {
     "data": {
      "image/png": "[encoded data removed]",
      "text/plain": [
       "<Figure size 432x288 with 1 Axes>"
      ]
     },
     "metadata": {
      "needs_background": "light"
     },
     "output_type": "display_data"
    }
   ],
   "source": [
    "pl.title('Percentage of range to sample along each axis\\nto achieve 1% overall sampling rate')\n",
    "pl.plot(n, x)\n",
    "pl.xlabel('dimensionality')\n",
    "pl.ylabel('percentage of range')"
   ]
  },
  {
   "cell_type": "markdown",
   "metadata": {},
   "source": [
    "## Distance"
   ]
  },
  {
   "cell_type": "markdown",
   "metadata": {},
   "source": [
    "Calculate ratio between hypersphere and hypercube.\n",
    "\n",
    "This is the distance example. High dimension \n",
    "\n",
    "<img src=\"files/curse-of-dimensionality_2.png\" />\n",
    "[Original image](http://content.edupristine.com/images/blogs/curse-of-dimensionality_2.png)\n",
    "\n",
    "(Image linked from the article)\n",
    "\n",
    "Given a square (or a cube or hypercube), we want to find what volume of the hypercube is covered by the biggest possible hypersphere. Since many algorithms rely on euclidean distance to define nearness, this gives an idea of how many points will fall in our sphere if we choose the biggest possible radius. This should be high for our algorithms to work as intended.\n",
    "\n",
    "For example, if you're in 2D and you have points in the ranges [0, 10], [0, 10], you would except that setting a distance threshold of 10 will include most of the points (obviously missing the points in the corner). If we increase the dimensionality, the volume of the \"corners\" will increase proportionally to our sphere's volume.\n",
    "\n",
    "The volume of an hypersphere of dimension n can be [computed recursively](https://en.wikipedia.org/wiki/Volume_of_an_n-ball#Recursions) :\n",
    "\n",
    "$$V_2(R) = \\pi R^2$$\n",
    "\n",
    "$$V_3(R) = \\frac{4}{3} \\pi R^3$$\n",
    "\n",
    "$$V_n(R) = \\frac{2\\pi R^2}{n} V_{n-2}(R)$$"
   ]
  },
  {
   "cell_type": "code",
   "execution_count": 7,
   "metadata": {},
   "outputs": [
    {
     "name": "stdout",
     "output_type": "stream",
     "text": [
      "[ 0  1  2  3  4  5  6  7  8  9 10 11 12 13 14]\n",
      "[ 4  5  6  7  8  9 10 11 12 13 14]\n",
      "[1.         2.         3.14159265 4.1887902  4.9348022  5.26378901\n",
      " 5.16771278 4.72476597 4.05871213 3.2985089  2.55016404 1.88410388\n",
      " 1.33526277 0.91062875 0.59926453]\n"
     ]
    }
   ],
   "source": [
    "# volume of n-spheres of radius R\n",
    "dims = np.arange(15)\n",
    "# radius always 1\n",
    "R = 1.0\n",
    "# volumn of n-spheres\n",
    "S_n = [1, # 0 dim\n",
    "       2 * R, # 1 dim\n",
    "       np.pi * R**2, # 2 dim\n",
    "       4.0/3.0 * np.pi * R**3] # 3 dim\n",
    "# calculate volumn for n = 4, 5, ... 15\n",
    "for n in dims[4:]:\n",
    "    S_n.append((2 * np.pi * R**2 / float(n)) * S_n[n - 2])\n",
    "S_n = np.array(S_n)\n",
    "print(dims)\n",
    "print(dims[4:])\n",
    "print(S_n)"
   ]
  },
  {
   "cell_type": "code",
   "execution_count": 6,
   "metadata": {},
   "outputs": [
    {
     "name": "stdout",
     "output_type": "stream",
     "text": [
      "[1.0000e+00 2.0000e+00 4.0000e+00 8.0000e+00 1.6000e+01 3.2000e+01\n",
      " 6.4000e+01 1.2800e+02 2.5600e+02 5.1200e+02 1.0240e+03 2.0480e+03\n",
      " 4.0960e+03 8.1920e+03 1.6384e+04]\n",
      "[2, 4, 6, 8, 10]\n"
     ]
    }
   ],
   "source": [
    "# volume of hypercubes of edge length 2*R\n",
    "# changing radius from R to 2*R\n",
    "# C_n is the volume of hypercubes\n",
    "C_n = np.array([(2*R)**n for n in dims])\n",
    "print(C_n)\n",
    "# how [n for n in list]\n",
    "a_list = [1,2,3,4,5]\n",
    "print([a*2 for a in a_list])"
   ]
  },
  {
   "cell_type": "code",
   "execution_count": 5,
   "metadata": {},
   "outputs": [
    {
     "data": {
      "text/plain": [
       "[<matplotlib.lines.Line2D at 0x7fcc860b77b8>]"
      ]
     },
     "execution_count": 5,
     "metadata": {},
     "output_type": "execute_result"
    },
    {
     "data": {
      "image/png": "[encoded data removed]",
      "text/plain": [
       "<Figure size 864x216 with 1 Axes>"
      ]
     },
     "metadata": {
      "needs_background": "light"
     },
     "output_type": "display_data"
    }
   ],
   "source": [
    "pl.figure(figsize=(12, 3))\n",
    "\n",
    "ax1 = pl.subplot(111)\n",
    "ax1.set_title('Ratio of n-sphere to n-cube volume\\n for  R=%f' % R)\n",
    "ax1.plot(dims, S_n/C_n)"
   ]
  },
  {
   "cell_type": "code",
   "execution_count": null,
   "metadata": {},
   "outputs": [],
   "source": []
  }
 ],
 "metadata": {
  "kernelspec": {
   "display_name": "Python 3",
   "language": "python",
   "name": "python3"
  },
  "language_info": {
   "codemirror_mode": {
    "name": "ipython",
    "version": 3
   },
   "file_extension": ".py",
   "mimetype": "text/x-python",
   "name": "python",
   "nbconvert_exporter": "python",
   "pygments_lexer": "ipython3",
   "version": "3.6.9"
  }
 },
 "nbformat": 4,
 "nbformat_minor": 1
}
