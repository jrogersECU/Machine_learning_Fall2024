{
 "cells": [
  {
   "cell_type": "markdown",
   "metadata": {},
   "source": [
    "# Final Group Activity\n",
    "\n",
    "When you work with other people, there may be not a specific goal. You need to figure out the information buried in the data with machine learning techniques.\n",
    "\n",
    "This is our last group activity. You are required to:\n",
    "\n",
    "1. draw graphs to show the connections within your data\n",
    "2. build machine learning models to achieve your goal. It can be classification models or regression models.\n",
    "3. compare performance between different models, including tuning hyperparameters\n",
    "4. show model performance, e.g. rmse, r^2, accuracy rate, confusion matrix\n",
    "\n",
    "You will have 45 minutes to complete the above steps and 30 minutes to present. Each team will have "
   ]
  },
  {
   "cell_type": "code",
   "execution_count": 19,
   "metadata": {},
   "outputs": [
    {
     "name": "stdout",
     "output_type": "stream",
     "text": [
      "   runoff  year  month  day  precip  tmax  tmin\n",
      "0     2.7  2002     10    1    0.13  57.4  34.6\n",
      "1     2.7  2002     10    2    0.97  38.4  29.7\n",
      "2     2.8  2002     10    3    0.04  41.2  31.7\n",
      "3     2.8  2002     10    4    0.00  52.9  34.0\n",
      "4     2.6  2002     10    5    0.00  50.5  34.8\n"
     ]
    }
   ],
   "source": [
    "# load data\n",
    "import pandas as pd\n",
    "\n",
    "df = pd.read_csv('test_data.csv',sep=',')\n",
    "\n",
    "print(df.head())"
   ]
  },
  {
   "cell_type": "markdown",
   "metadata": {},
   "source": [
    "You need to decide what is 'Y' (to be predicted) and what are 'X' (features). Here is an example:"
   ]
  },
  {
   "cell_type": "code",
   "execution_count": 31,
   "metadata": {},
   "outputs": [
    {
     "name": "stdout",
     "output_type": "stream",
     "text": [
      "   year  month  day  precip  tmax  tmin\n",
      "0  2002     10    1    0.13  57.4  34.6\n",
      "1  2002     10    2    0.97  38.4  29.7\n",
      "2  2002     10    3    0.04  41.2  31.7\n",
      "3  2002     10    4    0.00  52.9  34.0\n",
      "4  2002     10    5    0.00  50.5  34.8\n",
      "   runoff\n",
      "0     2.7\n",
      "1     2.7\n",
      "2     2.8\n",
      "3     2.8\n",
      "4     2.6\n"
     ]
    }
   ],
   "source": [
    "# if you want to find out possible connections between runoff and other parameters\n",
    "# you can separate data like this:\n",
    "y = df[['runoff']]\n",
    "X = df[['year','month','day','precip','tmax','tmin']]\n",
    "print(X[:5])\n",
    "print(y[:5])"
   ]
  },
  {
   "cell_type": "code",
   "execution_count": null,
   "metadata": {},
   "outputs": [],
   "source": []
  }
 ],
 "metadata": {
  "kernelspec": {
   "display_name": "Python 3",
   "language": "python",
   "name": "python3"
  },
  "language_info": {
   "codemirror_mode": {
    "name": "ipython",
    "version": 3
   },
   "file_extension": ".py",
   "mimetype": "text/x-python",
   "name": "python",
   "nbconvert_exporter": "python",
   "pygments_lexer": "ipython3",
   "version": "3.6.8"
  }
 },
 "nbformat": 4,
 "nbformat_minor": 2
}
